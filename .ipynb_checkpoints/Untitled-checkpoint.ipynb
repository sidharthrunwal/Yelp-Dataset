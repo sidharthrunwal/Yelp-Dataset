{
 "cells": [
  {
   "cell_type": "markdown",
   "id": "74c7c6e1-0409-479d-b5c3-106eba3ec000",
   "metadata": {},
   "source": [
    "CS 396 Project\n"
   ]
  },
  {
   "cell_type": "code",
   "execution_count": 14,
   "id": "171ebaaf-3187-410d-bba8-5d13a8565e59",
   "metadata": {},
   "outputs": [
    {
     "name": "stdout",
     "output_type": "stream",
     "text": [
      "Hello World\n"
     ]
    }
   ],
   "source": [
    "print('Hello World')\n",
    "import json\n",
    "import pandas as pd"
   ]
  },
  {
   "cell_type": "code",
   "execution_count": 24,
   "id": "b63e5911-464e-44e4-a0c0-5b71e2d0594c",
   "metadata": {},
   "outputs": [
    {
     "name": "stdout",
     "output_type": "stream",
     "text": [
      "{'business_id': '6iYb2HFDywm3zjuRg0shjw', 'name': 'Oskar Blues Taproom', 'address': '921 Pearl St', 'city': 'Boulder', 'state': 'CO', 'postal_code': '80302', 'latitude': 40.0175444, 'longitude': -105.2833481, 'stars': 4.0, 'review_count': 86, 'is_open': 1, 'attributes': {'RestaurantsTableService': 'True', 'WiFi': \"u'free'\", 'BikeParking': 'True', 'BusinessParking': \"{'garage': False, 'street': True, 'validated': False, 'lot': False, 'valet': False}\", 'BusinessAcceptsCreditCards': 'True', 'RestaurantsReservations': 'False', 'WheelchairAccessible': 'True', 'Caters': 'True', 'OutdoorSeating': 'True', 'RestaurantsGoodForGroups': 'True', 'HappyHour': 'True', 'BusinessAcceptsBitcoin': 'False', 'RestaurantsPriceRange2': '2', 'Ambience': \"{'touristy': False, 'hipster': False, 'romantic': False, 'divey': False, 'intimate': False, 'trendy': False, 'upscale': False, 'classy': False, 'casual': True}\", 'HasTV': 'True', 'Alcohol': \"'beer_and_wine'\", 'GoodForMeal': \"{'dessert': False, 'latenight': False, 'lunch': False, 'dinner': False, 'brunch': False, 'breakfast': False}\", 'DogsAllowed': 'False', 'RestaurantsTakeOut': 'True', 'NoiseLevel': \"u'average'\", 'RestaurantsAttire': \"'casual'\", 'RestaurantsDelivery': 'None'}, 'categories': 'Gastropubs, Food, Beer Gardens, Restaurants, Bars, American (Traditional), Beer Bar, Nightlife, Breweries', 'hours': {'Monday': '11:0-23:0', 'Tuesday': '11:0-23:0', 'Wednesday': '11:0-23:0', 'Thursday': '11:0-23:0', 'Friday': '11:0-23:0', 'Saturday': '11:0-23:0', 'Sunday': '11:0-23:0'}}\n",
      "{'business_id': '6iYb2HFDywm3zjuRg0shjw', 'name': 'Oskar Blues Taproom', 'address': '921 Pearl St', 'city': 'Boulder', 'state': 'CO', 'postal_code': '80302', 'latitude': 40.0175444, 'longitude': -105.2833481, 'stars': 4.0, 'review_count': 86, 'is_open': 1, 'attributes': {'RestaurantsTableService': 'True', 'WiFi': \"u'free'\", 'BikeParking': 'True', 'BusinessParking': \"{'garage': False, 'street': True, 'validated': False, 'lot': False, 'valet': False}\", 'BusinessAcceptsCreditCards': 'True', 'RestaurantsReservations': 'False', 'WheelchairAccessible': 'True', 'Caters': 'True', 'OutdoorSeating': 'True', 'RestaurantsGoodForGroups': 'True', 'HappyHour': 'True', 'BusinessAcceptsBitcoin': 'False', 'RestaurantsPriceRange2': '2', 'Ambience': \"{'touristy': False, 'hipster': False, 'romantic': False, 'divey': False, 'intimate': False, 'trendy': False, 'upscale': False, 'classy': False, 'casual': True}\", 'HasTV': 'True', 'Alcohol': \"'beer_and_wine'\", 'GoodForMeal': \"{'dessert': False, 'latenight': False, 'lunch': False, 'dinner': False, 'brunch': False, 'breakfast': False}\", 'DogsAllowed': 'False', 'RestaurantsTakeOut': 'True', 'NoiseLevel': \"u'average'\", 'RestaurantsAttire': \"'casual'\", 'RestaurantsDelivery': 'None'}, 'categories': 'Gastropubs, Food, Beer Gardens, Restaurants, Bars, American (Traditional), Beer Bar, Nightlife, Breweries', 'hours': {'Monday': '11:0-23:0', 'Tuesday': '11:0-23:0', 'Wednesday': '11:0-23:0', 'Thursday': '11:0-23:0', 'Friday': '11:0-23:0', 'Saturday': '11:0-23:0', 'Sunday': '11:0-23:0'}}\n",
      "{'business_id': '6iYb2HFDywm3zjuRg0shjw', 'name': 'Oskar Blues Taproom', 'address': '921 Pearl St', 'city': 'Boulder', 'state': 'CO', 'postal_code': '80302', 'latitude': 40.0175444, 'longitude': -105.2833481, 'stars': 4.0, 'review_count': 86, 'is_open': 1, 'attributes': {'RestaurantsTableService': 'True', 'WiFi': \"u'free'\", 'BikeParking': 'True', 'BusinessParking': \"{'garage': False, 'street': True, 'validated': False, 'lot': False, 'valet': False}\", 'BusinessAcceptsCreditCards': 'True', 'RestaurantsReservations': 'False', 'WheelchairAccessible': 'True', 'Caters': 'True', 'OutdoorSeating': 'True', 'RestaurantsGoodForGroups': 'True', 'HappyHour': 'True', 'BusinessAcceptsBitcoin': 'False', 'RestaurantsPriceRange2': '2', 'Ambience': \"{'touristy': False, 'hipster': False, 'romantic': False, 'divey': False, 'intimate': False, 'trendy': False, 'upscale': False, 'classy': False, 'casual': True}\", 'HasTV': 'True', 'Alcohol': \"'beer_and_wine'\", 'GoodForMeal': \"{'dessert': False, 'latenight': False, 'lunch': False, 'dinner': False, 'brunch': False, 'breakfast': False}\", 'DogsAllowed': 'False', 'RestaurantsTakeOut': 'True', 'NoiseLevel': \"u'average'\", 'RestaurantsAttire': \"'casual'\", 'RestaurantsDelivery': 'None'}, 'categories': 'Gastropubs, Food, Beer Gardens, Restaurants, Bars, American (Traditional), Beer Bar, Nightlife, Breweries', 'hours': {'Monday': '11:0-23:0', 'Tuesday': '11:0-23:0', 'Wednesday': '11:0-23:0', 'Thursday': '11:0-23:0', 'Friday': '11:0-23:0', 'Saturday': '11:0-23:0', 'Sunday': '11:0-23:0'}}\n",
      "{'business_id': '6iYb2HFDywm3zjuRg0shjw', 'name': 'Oskar Blues Taproom', 'address': '921 Pearl St', 'city': 'Boulder', 'state': 'CO', 'postal_code': '80302', 'latitude': 40.0175444, 'longitude': -105.2833481, 'stars': 4.0, 'review_count': 86, 'is_open': 1, 'attributes': {'RestaurantsTableService': 'True', 'WiFi': \"u'free'\", 'BikeParking': 'True', 'BusinessParking': \"{'garage': False, 'street': True, 'validated': False, 'lot': False, 'valet': False}\", 'BusinessAcceptsCreditCards': 'True', 'RestaurantsReservations': 'False', 'WheelchairAccessible': 'True', 'Caters': 'True', 'OutdoorSeating': 'True', 'RestaurantsGoodForGroups': 'True', 'HappyHour': 'True', 'BusinessAcceptsBitcoin': 'False', 'RestaurantsPriceRange2': '2', 'Ambience': \"{'touristy': False, 'hipster': False, 'romantic': False, 'divey': False, 'intimate': False, 'trendy': False, 'upscale': False, 'classy': False, 'casual': True}\", 'HasTV': 'True', 'Alcohol': \"'beer_and_wine'\", 'GoodForMeal': \"{'dessert': False, 'latenight': False, 'lunch': False, 'dinner': False, 'brunch': False, 'breakfast': False}\", 'DogsAllowed': 'False', 'RestaurantsTakeOut': 'True', 'NoiseLevel': \"u'average'\", 'RestaurantsAttire': \"'casual'\", 'RestaurantsDelivery': 'None'}, 'categories': 'Gastropubs, Food, Beer Gardens, Restaurants, Bars, American (Traditional), Beer Bar, Nightlife, Breweries', 'hours': {'Monday': '11:0-23:0', 'Tuesday': '11:0-23:0', 'Wednesday': '11:0-23:0', 'Thursday': '11:0-23:0', 'Friday': '11:0-23:0', 'Saturday': '11:0-23:0', 'Sunday': '11:0-23:0'}}\n",
      "{'business_id': '6iYb2HFDywm3zjuRg0shjw', 'name': 'Oskar Blues Taproom', 'address': '921 Pearl St', 'city': 'Boulder', 'state': 'CO', 'postal_code': '80302', 'latitude': 40.0175444, 'longitude': -105.2833481, 'stars': 4.0, 'review_count': 86, 'is_open': 1, 'attributes': {'RestaurantsTableService': 'True', 'WiFi': \"u'free'\", 'BikeParking': 'True', 'BusinessParking': \"{'garage': False, 'street': True, 'validated': False, 'lot': False, 'valet': False}\", 'BusinessAcceptsCreditCards': 'True', 'RestaurantsReservations': 'False', 'WheelchairAccessible': 'True', 'Caters': 'True', 'OutdoorSeating': 'True', 'RestaurantsGoodForGroups': 'True', 'HappyHour': 'True', 'BusinessAcceptsBitcoin': 'False', 'RestaurantsPriceRange2': '2', 'Ambience': \"{'touristy': False, 'hipster': False, 'romantic': False, 'divey': False, 'intimate': False, 'trendy': False, 'upscale': False, 'classy': False, 'casual': True}\", 'HasTV': 'True', 'Alcohol': \"'beer_and_wine'\", 'GoodForMeal': \"{'dessert': False, 'latenight': False, 'lunch': False, 'dinner': False, 'brunch': False, 'breakfast': False}\", 'DogsAllowed': 'False', 'RestaurantsTakeOut': 'True', 'NoiseLevel': \"u'average'\", 'RestaurantsAttire': \"'casual'\", 'RestaurantsDelivery': 'None'}, 'categories': 'Gastropubs, Food, Beer Gardens, Restaurants, Bars, American (Traditional), Beer Bar, Nightlife, Breweries', 'hours': {'Monday': '11:0-23:0', 'Tuesday': '11:0-23:0', 'Wednesday': '11:0-23:0', 'Thursday': '11:0-23:0', 'Friday': '11:0-23:0', 'Saturday': '11:0-23:0', 'Sunday': '11:0-23:0'}}\n"
     ]
    }
   ],
   "source": [
    "f = open('yelp_business.json',encoding='utf8')\n",
    "CO = []\n",
    "OR = []\n",
    "FL = []\n",
    "GA = []\n",
    "OH = []\n",
    "TX = []\n",
    "MA = []\n",
    "WA = []\n",
    "count = 0\n",
    "for i in f:\n",
    "    data = json.loads(i)\n",
    "    #dict(data)\n",
    "    #if data.get(['business_id']) == CO:\n",
    "    #    CO.append(data)\n",
    "    if data['business_id'] == OR:\n",
    "        OR.append(data)\n",
    "    if data['business_id'] == FL:\n",
    "        FL.append(data)\n",
    "    if data['business_id'] == GA:\n",
    "        GA.append(data)\n",
    "    if data['business_id'] == OH:\n",
    "        OH.append(data)\n",
    "    if data['business_id'] == TX:\n",
    "        DX.append(data)\n",
    "    if data['business_id'] == WA:\n",
    "        WA.append(data)\n",
    "    if data['business_id'] == MA:\n",
    "        MA.append(data)\n",
    "        \n",
    "    while count < 5:\n",
    "        print(data)\n",
    "        count = count +1\n",
    "    #if data['business_id'] == busi:\n",
    "        \n",
    "    #reviews.append(data['review_count'])\n",
    "    #fans.append(data['fans'])"
   ]
  },
  {
   "cell_type": "code",
   "execution_count": 20,
   "id": "4cd5e390-a779-43b4-8555-d5991a8cc91d",
   "metadata": {},
   "outputs": [
    {
     "ename": "TypeError",
     "evalue": "'_io.TextIOWrapper' object is not subscriptable",
     "output_type": "error",
     "traceback": [
      "\u001b[0;31m---------------------------------------------------------------------------\u001b[0m",
      "\u001b[0;31mTypeError\u001b[0m                                 Traceback (most recent call last)",
      "\u001b[0;32m<ipython-input-20-44fd211330e1>\u001b[0m in \u001b[0;36m<module>\u001b[0;34m\u001b[0m\n\u001b[1;32m     18\u001b[0m \u001b[0;31m#creating a dictionary to keep track of what regions users leave reviews in\u001b[0m\u001b[0;34m\u001b[0m\u001b[0;34m\u001b[0m\u001b[0;34m\u001b[0m\u001b[0m\n\u001b[1;32m     19\u001b[0m \u001b[0;32mfor\u001b[0m \u001b[0mx\u001b[0m \u001b[0;32min\u001b[0m \u001b[0mreviews\u001b[0m\u001b[0;34m:\u001b[0m\u001b[0;34m\u001b[0m\u001b[0;34m\u001b[0m\u001b[0m\n\u001b[0;32m---> 20\u001b[0;31m     \u001b[0mbid\u001b[0m \u001b[0;34m=\u001b[0m \u001b[0mreviews\u001b[0m\u001b[0;34m[\u001b[0m\u001b[0;34m\"business_id\"\u001b[0m\u001b[0;34m]\u001b[0m\u001b[0;34m\u001b[0m\u001b[0;34m\u001b[0m\u001b[0m\n\u001b[0m\u001b[1;32m     21\u001b[0m     \u001b[0muserid\u001b[0m \u001b[0;34m=\u001b[0m \u001b[0mreviews\u001b[0m\u001b[0;34m[\u001b[0m\u001b[0;34m\"user_id\"\u001b[0m\u001b[0;34m]\u001b[0m\u001b[0;34m\u001b[0m\u001b[0;34m\u001b[0m\u001b[0m\n\u001b[1;32m     22\u001b[0m     \u001b[0;32mfor\u001b[0m \u001b[0my\u001b[0m \u001b[0;32min\u001b[0m \u001b[0mbusinesses\u001b[0m\u001b[0;34m:\u001b[0m\u001b[0;34m\u001b[0m\u001b[0;34m\u001b[0m\u001b[0m\n",
      "\u001b[0;31mTypeError\u001b[0m: '_io.TextIOWrapper' object is not subscriptable"
     ]
    }
   ],
   "source": [
    "import matplotlib.pyplot as plt\n",
    "\n",
    "#graph of average stars by user region\n",
    "\n",
    "\n",
    "west = [CO, OR, WA]\n",
    "south = [FL, GA, TX]\n",
    "east = [MA]\n",
    "mw = [OH]\n",
    "\n",
    "#filenames will be replaced with cleaned files\n",
    "reviews = open(\"yelp_review.json\") \n",
    "businesses = open('yelp_business.json')\n",
    "users = open('yelp_user.json')\n",
    "\n",
    "userdict = {} #a dictionary to keep track of values: key is user id, value is a list of length 4 representing the 4 regions\n",
    "\n",
    "#creating a dictionary to keep track of what regions users leave reviews in\n",
    "for x in reviews:\n",
    "    bid = reviews[\"business_id\"]\n",
    "    userid = reviews[\"user_id\"]\n",
    "    for y in businesses:\n",
    "        if businesses[\"business_id\"] == bid:\n",
    "            state = businesses[\"state\"]\n",
    "            if userid in userdict:\n",
    "                lst = userdict[userid]\n",
    "                if state in west:\n",
    "                    userdict[userid] = [lst[0]+1, lst[1], lst[2], lst[3]]\n",
    "                if state in south:\n",
    "                    userdict[userid] = [lst[0], lst[1]+1, lst[2], lst[3]]\n",
    "                if state in east:\n",
    "                    userdict[userid] = [lst[0], lst[1], lst[2]+1, lst[3]]\n",
    "                if state in mw:\n",
    "                    userdict[userid] = [lst[0], lst[1], lst[2], lst[3]+1]\n",
    "            else:\n",
    "                if state in west:\n",
    "                    userdict[userid] = [1, 0, 0, 0]\n",
    "                if state in south:\n",
    "                    userdict[userid] = [0, 1, 0, 0]\n",
    "                if state in east:\n",
    "                    userdict[userid] = [0, 0, 1, 0]\n",
    "                if state in mw:\n",
    "                    userdict[userid] = [0, 0, 0, 1]\n",
    "\n",
    "#determining where the region where the user reviews the most to estimate location\n",
    "for x in userdict:\n",
    "    lst = userdict[x]\n",
    "    region = lst.index(max(lst))\n",
    "    if region == 0:\n",
    "        userdict.update({x : west})\n",
    "    if region == 1:\n",
    "        userdict.update({x : south})\n",
    "    if region == 2:\n",
    "        userdict.update({x : east})\n",
    "    if region == 3:\n",
    "        userdict.update({x : mw})\n",
    "\n",
    "#lists of average stars users give\n",
    "westr = []\n",
    "southr = []\n",
    "eastr = []\n",
    "mwr = []\n",
    "\n",
    "#populating av star lists\n",
    "for x in users:\n",
    "    if x['user_id'] in userdict:\n",
    "        region = userdict[x['user_id']]\n",
    "        if region == 'west':\n",
    "            westr.append(x['average_stars'])\n",
    "        if region == 'south':\n",
    "            southr.append(x['average_stars'])\n",
    "        if region == 'east':\n",
    "            eastr.append(x['average_stars'])\n",
    "        if region == 'mw':\n",
    "            mwr.append(x['average_stars'])\n",
    "\n",
    "#finding average star rating per region\n",
    "westav = sum(westr) / len(westr)\n",
    "southav = sum(southr) / len(southr)\n",
    "eastav = sum(eastr) / len(eastr)\n",
    "mwav = sum(mwr) / len(mwr)\n",
    "\n",
    "names = [\"West\", \"South\", \"East\", \"Midwest\"]\n",
    "values = [westav, southav, eastav, mwav]\n",
    "\n",
    "#plotting into bar chart\n",
    "plt.figure(figsize=(9, 3))\n",
    "plt.bar(names, values)\n",
    "plt.title(\"Average Star Ratings by Regions of Users\")\n",
    "plt.ylabel(\"Average Star Rating\")\n",
    "plt.show()"
   ]
  },
  {
   "cell_type": "code",
   "execution_count": 28,
   "id": "06838986-e0db-437d-b6c9-f27f7fc3d20b",
   "metadata": {},
   "outputs": [],
   "source": [
    "import json\n",
    "import pandas as pd\n",
    "import glob, os, json\n",
    "\n",
    "data=[]\n",
    "path ='C:\\\\Users\\\\Admin\\\\Desktop\\\\CS396DataScienceFinal\\\\'\n",
    "for l in open('yelp_business.json', encoding=\"utf-8\").readlines():\n",
    "    data.append(json.loads(l))\n",
    "df_biz = pd.DataFrame.from_records(data)\n",
    "df_biz = df_biz.dropna()"
   ]
  },
  {
   "cell_type": "code",
   "execution_count": 29,
   "id": "22e899ce-9019-4c9d-9a41-8406bb6227ab",
   "metadata": {},
   "outputs": [
    {
     "data": {
      "text/plain": [
       "Text(0.5, 1.0, 'Distribution of Star Ratings Across States')"
      ]
     },
     "execution_count": 29,
     "metadata": {},
     "output_type": "execute_result"
    },
    {
     "data": {
      "image/png": "[encoded data removed]",
      "text/plain": [
       "<Figure size 432x288 with 1 Axes>"
      ]
     },
     "metadata": {
      "needs_background": "light"
     },
     "output_type": "display_data"
    }
   ],
   "source": [
    "import matplotlib.pyplot as plt\n",
    "df_co = df_biz[df_biz['state']=='CO']\n",
    "df_or = df_biz[df_biz['state']=='OR']\n",
    "df_fl = df_biz[df_biz['state']=='FL']\n",
    "df_ga = df_biz[df_biz['state']=='GA']\n",
    "df_bc = df_biz[df_biz['state']=='BC']\n",
    "df_oh = df_biz[df_biz['state']=='OH']\n",
    "df_tx = df_biz[df_biz['state']=='TX']\n",
    "df_ma = df_biz[df_biz['state']=='MA']\n",
    "df_wa = df_biz[df_biz['state']=='WA']\n",
    "plt.boxplot([df_co['stars'], df_or['stars'],df_fl['stars'],df_ga['stars'],df_bc['stars'],df_oh['stars'],df_tx['stars'],df_ma['stars'],df_wa['stars']], labels = [\"CO\", \"OR\", \"FL\", \"GA\", \"BC\", \"OH\", \"TX\", \"MA\", \"WA\"])\n",
    "plt.xlabel('States')\n",
    "plt.ylabel('Stars')\n",
    "plt.title('Distribution of Star Ratings Across States')"
   ]
  },
  {
   "cell_type": "code",
   "execution_count": null,
   "id": "2c344c72-5cfc-4e28-a398-1a73da837370",
   "metadata": {},
   "outputs": [],
   "source": []
  }
 ],
 "metadata": {
  "kernelspec": {
   "display_name": "Python 3",
   "language": "python",
   "name": "python3"
  },
  "language_info": {
   "codemirror_mode": {
    "name": "ipython",
    "version": 3
   },
   "file_extension": ".py",
   "mimetype": "text/x-python",
   "name": "python",
   "nbconvert_exporter": "python",
   "pygments_lexer": "ipython3",
   "version": "3.8.8"
  }
 },
 "nbformat": 4,
 "nbformat_minor": 5
}
