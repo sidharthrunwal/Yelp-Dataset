{
 "cells": [
  {
   "cell_type": "markdown",
   "id": "74c7c6e1-0409-479d-b5c3-106eba3ec000",
   "metadata": {},
   "source": [
    "CS 396 Project\n"
   ]
  },
  {
   "cell_type": "code",
   "execution_count": 1,
   "id": "171ebaaf-3187-410d-bba8-5d13a8565e59",
   "metadata": {},
   "outputs": [
    {
     "name": "stdout",
     "output_type": "stream",
     "text": [
      "Hello World\n"
     ]
    }
   ],
   "source": [
    "print('Hello World')"
   ]
  }
 ],
 "metadata": {
  "kernelspec": {
   "display_name": "Python 3",
   "language": "python",
   "name": "python3"
  },
  "language_info": {
   "codemirror_mode": {
    "name": "ipython",
    "version": 3
   },
   "file_extension": ".py",
   "mimetype": "text/x-python",
   "name": "python",
   "nbconvert_exporter": "python",
   "pygments_lexer": "ipython3",
   "version": "3.8.8"
  }
 },
 "nbformat": 4,
 "nbformat_minor": 5
}
