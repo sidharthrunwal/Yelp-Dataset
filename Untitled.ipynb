{
 "cells": [
  {
   "cell_type": "markdown",
   "id": "74c7c6e1-0409-479d-b5c3-106eba3ec000",
   "metadata": {},
   "source": [
    "CS 396 Project\n"
   ]
  },
  {
   "cell_type": "code",
   "execution_count": 3,
   "id": "171ebaaf-3187-410d-bba8-5d13a8565e59",
   "metadata": {},
   "outputs": [
    {
     "name": "stdout",
     "output_type": "stream",
     "text": [
      "Hello World\n"
     ]
    }
   ],
   "source": [
    "print('Hello World')\n",
    "import json\n",
    "import pandas as pd"
   ]
  },
  {
   "cell_type": "code",
   "execution_count": 13,
   "id": "b63e5911-464e-44e4-a0c0-5b71e2d0594c",
   "metadata": {},
   "outputs": [
    {
     "name": "stdout",
     "output_type": "stream",
     "text": [
      "6iYb2HFDywm3zjuRg0shjw\n"
     ]
    },
    {
     "ename": "NameError",
     "evalue": "name 'df' is not defined",
     "output_type": "error",
     "traceback": [
      "\u001b[0;31m---------------------------------------------------------------------------\u001b[0m",
      "\u001b[0;31mNameError\u001b[0m                                 Traceback (most recent call last)",
      "\u001b[0;32m<ipython-input-13-52f55a9e6fff>\u001b[0m in \u001b[0;36m<module>\u001b[0;34m\u001b[0m\n\u001b[1;32m     43\u001b[0m     \u001b[0;31m#fans.append(data['fans'])\u001b[0m\u001b[0;34m\u001b[0m\u001b[0;34m\u001b[0m\u001b[0;34m\u001b[0m\u001b[0m\n\u001b[1;32m     44\u001b[0m     \u001b[0mdf_biz\u001b[0m \u001b[0;34m=\u001b[0m \u001b[0mpd\u001b[0m\u001b[0;34m.\u001b[0m\u001b[0mread_json\u001b[0m\u001b[0;34m(\u001b[0m\u001b[0;34m'yelp_business.json'\u001b[0m\u001b[0;34m,\u001b[0m \u001b[0mlines\u001b[0m\u001b[0;34m=\u001b[0m\u001b[0;32mTrue\u001b[0m\u001b[0;34m)\u001b[0m\u001b[0;34m\u001b[0m\u001b[0;34m\u001b[0m\u001b[0m\n\u001b[0;32m---> 45\u001b[0;31m     \u001b[0mdf_combo\u001b[0m \u001b[0;34m=\u001b[0m \u001b[0mdf\u001b[0m\u001b[0;34m.\u001b[0m\u001b[0mset_index\u001b[0m\u001b[0;34m(\u001b[0m\u001b[0;34m'business_id'\u001b[0m\u001b[0;34m)\u001b[0m\u001b[0;34m.\u001b[0m\u001b[0mjoin\u001b[0m\u001b[0;34m(\u001b[0m\u001b[0mdf_biz\u001b[0m\u001b[0;34m.\u001b[0m\u001b[0mset_index\u001b[0m\u001b[0;34m(\u001b[0m\u001b[0;34m'business_id'\u001b[0m\u001b[0;34m)\u001b[0m\u001b[0;34m)\u001b[0m\u001b[0;34m\u001b[0m\u001b[0;34m\u001b[0m\u001b[0m\n\u001b[0m\u001b[1;32m     46\u001b[0m     \u001b[0mdf_combo2\u001b[0m \u001b[0;34m=\u001b[0m \u001b[0mdf_combo\u001b[0m\u001b[0;34m.\u001b[0m\u001b[0mgroupby\u001b[0m\u001b[0;34m(\u001b[0m\u001b[0;34m\"business_id\"\u001b[0m\u001b[0;34m)\u001b[0m\u001b[0;34m[\u001b[0m\u001b[0;34m'user_id'\u001b[0m\u001b[0;34m]\u001b[0m\u001b[0;34m.\u001b[0m\u001b[0msize\u001b[0m\u001b[0;34m(\u001b[0m\u001b[0;34m)\u001b[0m\u001b[0;34m\u001b[0m\u001b[0;34m\u001b[0m\u001b[0m\n\u001b[1;32m     47\u001b[0m     \u001b[0mbusiness_id\u001b[0m \u001b[0;34m=\u001b[0m \u001b[0mdf_combo2\u001b[0m\u001b[0;34m.\u001b[0m\u001b[0midxmax\u001b[0m\u001b[0;34m(\u001b[0m\u001b[0;34m)\u001b[0m\u001b[0;34m\u001b[0m\u001b[0;34m\u001b[0m\u001b[0m\n",
      "\u001b[0;31mNameError\u001b[0m: name 'df' is not defined"
     ]
    }
   ],
   "source": [
    "f = open('yelp_business.json',encoding='utf8')\n",
    "CO = []\n",
    "OR = []\n",
    "FL = []\n",
    "GA = []\n",
    "BC = []\n",
    "OH = []\n",
    "DX = []\n",
    "MA = []\n",
    "WA = []\n",
    "count = 0\n",
    "for i in f:\n",
    "    data = json.loads(i)\n",
    "    print(data['business_id'])\n",
    "    if data['business_id'] == CO:\n",
    "        CO.append(data)\n",
    "    if data['business_id'] == OR:\n",
    "        print(\"Hei\")\n",
    "        OR.append(data)\n",
    "    if data['business_id'] == FL:\n",
    "        print(\"Huu\")\n",
    "        FL.append(data)\n",
    "    if data['business_id'] == GA:\n",
    "        print(\"lala\")\n",
    "        GA.append(data)\n",
    "    if data['business_id'] == BC:\n",
    "        BC.append(data)\n",
    "    if data['business_id'] == OH:\n",
    "        OH.append(data)\n",
    "    if data['business_id'] == DX:\n",
    "        DX.append(data)\n",
    "    if data['business_id'] == WA:\n",
    "        WA.append(data)\n",
    "    if data['business_id'] == MA:\n",
    "        MA.append(data)\n",
    "        \n",
    "    #while count < 5:\n",
    "     #   print(OH[2])\n",
    "      #  count = count +1\n",
    "    #if data['business_id'] == busi:\n",
    "        \n",
    "    #reviews.append(data['review_count'])\n",
    "    #fans.append(data['fans'])\n",
    "    df_biz = pd.read_json('yelp_business.json', lines=True)\n",
    "    df_combo = df.set_index('business_id').join(df_biz.set_index('business_id'))\n",
    "    df_combo2 = df_combo.groupby(\"business_id\")['user_id'].size()\n",
    "    business_id = df_combo2.idxmax()\n",
    "    business_name = df_combo.loc[business_id]['name'][0]\n",
    "# business_name = df_combo[df_combo['business_id']==business_id]\n",
    "#average stars\n"
   ]
  },
  {
   "cell_type": "code",
   "execution_count": null,
   "id": "4cd5e390-a779-43b4-8555-d5991a8cc91d",
   "metadata": {},
   "outputs": [],
   "source": []
  }
 ],
 "metadata": {
  "kernelspec": {
   "display_name": "Python 3",
   "language": "python",
   "name": "python3"
  },
  "language_info": {
   "codemirror_mode": {
    "name": "ipython",
    "version": 3
   },
   "file_extension": ".py",
   "mimetype": "text/x-python",
   "name": "python",
   "nbconvert_exporter": "python",
   "pygments_lexer": "ipython3",
   "version": "3.8.8"
  }
 },
 "nbformat": 4,
 "nbformat_minor": 5
}
