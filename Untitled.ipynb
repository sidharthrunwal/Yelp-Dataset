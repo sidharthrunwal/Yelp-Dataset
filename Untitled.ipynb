{
 "cells": [
  {
   "cell_type": "markdown",
   "id": "74c7c6e1-0409-479d-b5c3-106eba3ec000",
   "metadata": {},
   "source": [
    "CS 396 Project\n"
   ]
  },
  {
   "cell_type": "code",
   "execution_count": 3,
   "id": "171ebaaf-3187-410d-bba8-5d13a8565e59",
   "metadata": {},
   "outputs": [
    {
     "name": "stdout",
     "output_type": "stream",
     "text": [
      "Hello World\n"
     ]
    }
   ],
   "source": [
    "print('Hello World')\n",
    "import json\n",
    "import pandas as pd"
   ]
  },
  {
   "cell_type": "code",
   "execution_count": 13,
   "id": "b63e5911-464e-44e4-a0c0-5b71e2d0594c",
   "metadata": {},
   "outputs": [
    {
     "name": "stdout",
     "output_type": "stream",
     "text": [
      "6iYb2HFDywm3zjuRg0shjw\n"
     ]
    },
    {
     "ename": "NameError",
     "evalue": "name 'df' is not defined",
     "output_type": "error",
     "traceback": [
      "\u001b[0;31m---------------------------------------------------------------------------\u001b[0m",
      "\u001b[0;31mNameError\u001b[0m                                 Traceback (most recent call last)",
      "\u001b[0;32m<ipython-input-13-52f55a9e6fff>\u001b[0m in \u001b[0;36m<module>\u001b[0;34m\u001b[0m\n\u001b[1;32m     43\u001b[0m     \u001b[0;31m#fans.append(data['fans'])\u001b[0m\u001b[0;34m\u001b[0m\u001b[0;34m\u001b[0m\u001b[0;34m\u001b[0m\u001b[0m\n\u001b[1;32m     44\u001b[0m     \u001b[0mdf_biz\u001b[0m \u001b[0;34m=\u001b[0m \u001b[0mpd\u001b[0m\u001b[0;34m.\u001b[0m\u001b[0mread_json\u001b[0m\u001b[0;34m(\u001b[0m\u001b[0;34m'yelp_business.json'\u001b[0m\u001b[0;34m,\u001b[0m \u001b[0mlines\u001b[0m\u001b[0;34m=\u001b[0m\u001b[0;32mTrue\u001b[0m\u001b[0;34m)\u001b[0m\u001b[0;34m\u001b[0m\u001b[0;34m\u001b[0m\u001b[0m\n\u001b[0;32m---> 45\u001b[0;31m     \u001b[0mdf_combo\u001b[0m \u001b[0;34m=\u001b[0m \u001b[0mdf\u001b[0m\u001b[0;34m.\u001b[0m\u001b[0mset_index\u001b[0m\u001b[0;34m(\u001b[0m\u001b[0;34m'business_id'\u001b[0m\u001b[0;34m)\u001b[0m\u001b[0;34m.\u001b[0m\u001b[0mjoin\u001b[0m\u001b[0;34m(\u001b[0m\u001b[0mdf_biz\u001b[0m\u001b[0;34m.\u001b[0m\u001b[0mset_index\u001b[0m\u001b[0;34m(\u001b[0m\u001b[0;34m'business_id'\u001b[0m\u001b[0;34m)\u001b[0m\u001b[0;34m)\u001b[0m\u001b[0;34m\u001b[0m\u001b[0;34m\u001b[0m\u001b[0m\n\u001b[0m\u001b[1;32m     46\u001b[0m     \u001b[0mdf_combo2\u001b[0m \u001b[0;34m=\u001b[0m \u001b[0mdf_combo\u001b[0m\u001b[0;34m.\u001b[0m\u001b[0mgroupby\u001b[0m\u001b[0;34m(\u001b[0m\u001b[0;34m\"business_id\"\u001b[0m\u001b[0;34m)\u001b[0m\u001b[0;34m[\u001b[0m\u001b[0;34m'user_id'\u001b[0m\u001b[0;34m]\u001b[0m\u001b[0;34m.\u001b[0m\u001b[0msize\u001b[0m\u001b[0;34m(\u001b[0m\u001b[0;34m)\u001b[0m\u001b[0;34m\u001b[0m\u001b[0;34m\u001b[0m\u001b[0m\n\u001b[1;32m     47\u001b[0m     \u001b[0mbusiness_id\u001b[0m \u001b[0;34m=\u001b[0m \u001b[0mdf_combo2\u001b[0m\u001b[0;34m.\u001b[0m\u001b[0midxmax\u001b[0m\u001b[0;34m(\u001b[0m\u001b[0;34m)\u001b[0m\u001b[0;34m\u001b[0m\u001b[0;34m\u001b[0m\u001b[0m\n",
      "\u001b[0;31mNameError\u001b[0m: name 'df' is not defined"
     ]
    }
   ],
   "source": [
    "f = open('yelp_business.json',encoding='utf8')\n",
    "CO = []\n",
    "OR = []\n",
    "FL = []\n",
    "GA = []\n",
    "OH = []\n",
    "DX = []\n",
    "MA = []\n",
    "WA = []\n",
    "count = 0\n",
    "for i in f:\n",
    "    data = json.loads(i)\n",
    "    print(data['business_id'])\n",
    "    if data['business_id'] == CO:\n",
    "        CO.append(data)\n",
    "    if data['business_id'] == OR:\n",
    "        print(\"Hei\")\n",
    "        OR.append(data)\n",
    "    if data['business_id'] == FL:\n",
    "        print(\"Huu\")\n",
    "        FL.append(data)\n",
    "    if data['business_id'] == GA:\n",
    "        print(\"lala\")\n",
    "        GA.append(data)\n",
    "    if data['business_id'] == OH:\n",
    "        OH.append(data)\n",
    "    if data['business_id'] == DX:\n",
    "        DX.append(data)\n",
    "    if data['business_id'] == WA:\n",
    "        WA.append(data)\n",
    "    if data['business_id'] == MA:\n",
    "        MA.append(data)\n",
    "        \n",
    "    #while count < 5:\n",
    "     #   print(OH[2])\n",
    "      #  count = count +1\n",
    "    #if data['business_id'] == busi:\n",
    "        \n",
    "    #reviews.append(data['review_count'])\n",
    "    #fans.append(data['fans'])\n",
    "    df_biz = pd.read_json('yelp_business.json', lines=True)\n",
    "    df_combo = df.set_index('business_id').join(df_biz.set_index('business_id'))\n",
    "    df_combo2 = df_combo.groupby(\"business_id\")['user_id'].size()\n",
    "    business_id = df_combo2.idxmax()\n",
    "    business_name = df_combo.loc[business_id]['name'][0]\n",
    "# business_name = df_combo[df_combo['business_id']==business_id]\n",
    "#average stars\n"
   ]
  },
  {
   "cell_type": "code",
   "execution_count": null,
   "id": "4cd5e390-a779-43b4-8555-d5991a8cc91d",
   "metadata": {},
   "outputs": [],
   "source": [
    "import matplotlib.pyplot as plt\n",
    "\n",
    "#graph of average stars by user region\n",
    "\n",
    "\n",
    "west = [CO, OR, WA]\n",
    "south = [FL, GA, TX]\n",
    "east = [MA]\n",
    "mw = [OH]\n",
    "\n",
    "#filenames will be replaced with cleaned files\n",
    "reviews = open(\"yelp_reviews.json\") \n",
    "businesses = open('yelp_business.json')\n",
    "users = open('yelp_user.json')\n",
    "\n",
    "userdict = {} #a dictionary to keep track of values: key is user id, value is a list of length 4 representing the 4 regions\n",
    "\n",
    "#creating a dictionary to keep track of what regions users leave reviews in\n",
    "for x in reviews:\n",
    "    bid = reviews[\"business_id\"]\n",
    "    userid = reviews[\"user_id\"]\n",
    "    for y in businesses:\n",
    "        if businesses[\"business_id\"] == bid:\n",
    "            state = businesses[\"state\"]\n",
    "            if userid in userdict:\n",
    "                lst = userdict[userid]\n",
    "                if state in west:\n",
    "                    userdict[userid] = [lst[0]+1, lst[1], lst[2], lst[3]]\n",
    "                if state in south:\n",
    "                    userdict[userid] = [lst[0], lst[1]+1, lst[2], lst[3]]\n",
    "                if state in east:\n",
    "                    userdict[userid] = [lst[0], lst[1], lst[2]+1, lst[3]]\n",
    "                if state in mw:\n",
    "                    userdict[userid] = [lst[0], lst[1], lst[2], lst[3]+1]\n",
    "            else:\n",
    "                if state in west:\n",
    "                    userdict[userid] = [1, 0, 0, 0]\n",
    "                if state in south:\n",
    "                    userdict[userid] = [0, 1, 0, 0]\n",
    "                if state in east:\n",
    "                    userdict[userid] = [0, 0, 1, 0]\n",
    "                if state in mw:\n",
    "                    userdict[userid] = [0, 0, 0, 1]\n",
    "\n",
    "#determining where the region where the user reviews the most to estimate location\n",
    "for x in userdict:\n",
    "    lst = userdict[x]\n",
    "    region = lst.index(max(lst))\n",
    "    if region == 0:\n",
    "        userdict.update({x : west})\n",
    "    if region == 1:\n",
    "        userdict.update({x : south})\n",
    "    if region == 2:\n",
    "        userdict.update({x : east})\n",
    "    if region == 3:\n",
    "        userdict.update({x : mw})\n",
    "\n",
    "#lists of average stars users give\n",
    "westr = []\n",
    "southr = []\n",
    "eastr = []\n",
    "mwr = []\n",
    "\n",
    "#populating av star lists\n",
    "for x in users:\n",
    "    if x['user_id'] in userdict:\n",
    "        region = userdict[x['user_id']]\n",
    "        if region == 'west':\n",
    "            westr.append(x['average_stars'])\n",
    "        if region == 'south':\n",
    "            southr.append(x['average_stars'])\n",
    "        if region == 'east':\n",
    "            eastr.append(x['average_stars'])\n",
    "        if region == 'mw':\n",
    "            mwr.append(x['average_stars'])\n",
    "\n",
    "#finding average star rating per region\n",
    "westav = sum(westr) / len(westr)\n",
    "southav = sum(southr) / len(southr)\n",
    "eastav = sum(eastr) / len(eastr)\n",
    "mwav = sum(mwr) / len(mwr)\n",
    "\n",
    "names = [\"West\", \"South\", \"East\", \"Midwest\"]\n",
    "values = [westav, southav, eastav, mwav]\n",
    "\n",
    "#plotting into bar chart\n",
    "plt.figure(figsize=(9, 3))\n",
    "plt.bar(names, values)\n",
    "plt.title(\"Average Star Ratings by Regions of Users\")\n",
    "plt.ylabel(\"Average Star Rating\")\n",
    "plt.show()"
   ]
  }
 ],
 "metadata": {
  "kernelspec": {
   "display_name": "Python 3",
   "language": "python",
   "name": "python3"
  },
  "language_info": {
   "codemirror_mode": {
    "name": "ipython",
    "version": 3
   },
   "file_extension": ".py",
   "mimetype": "text/x-python",
   "name": "python",
   "nbconvert_exporter": "python",
   "pygments_lexer": "ipython3",
   "version": "3.8.8"
  }
 },
 "nbformat": 4,
 "nbformat_minor": 5
}
